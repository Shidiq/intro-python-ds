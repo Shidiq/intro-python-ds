get_ipython().run_line_magic("config", " InlineBackend.figure_formats = ['svg']")

import matplotlib.pyplot as plt
get_ipython().run_line_magic("matplotlib", " inline")




fig, ax = Style().update()
x = data['time(s)'].values

for i, col in enumerate(COLS):
    y0 = data[col].values[0]
    y = (data[col].values - y0) / 1000.0
    ax.plot(x, y, color=colors()[i], label=col, linewidth=4)

axes = plt.gca()

#     ax.legend(loc='center left', bbox_to_anchor=(1, 0.65), frameon=False)
#     ax.set_xlim([0, 45])
ylim_max = axes.get_ylim()[1]
ax.set_ylim([0, ylim_max])
ax.set_xlim([0, 57.5])
ax.legend(loc='center right')
ax.set_xlabel("Waktu (detik)")
ax.set_ylabel("Respon sensor (V)")
ax.axvline(x=2.0, color='k', linestyle='--')
ax.axvline(x=42.0, color='k', linestyle='--')
ax.fill_between([2, 42], y1=ylim_max, color="#f2f2f2", alpha=0.7)
