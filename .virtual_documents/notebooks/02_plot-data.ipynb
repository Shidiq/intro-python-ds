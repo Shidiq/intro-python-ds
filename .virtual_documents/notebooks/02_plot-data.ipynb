import matplotlib.pyplot as plt
import matplotlib.ticker as ticker
import pandas as pd
import seaborn as sns
from mylib import Style


warna = {
    "S1": "#1F77B4",
    "S2": "#FF7F0F",
    "S3": "#2BA02B",
    "S4": "#D62727",
    "S5": "#9467BD",
    "S6": "#8C564C",
    "S7": "#E377C3",
    "S8": "#7F7F7F",
    "S9": "#BCBD21",
    "S10": "#15BECF",
    "Temp": "#187498",
    "Humid": "#EB5353",
}


data = pd.read_csv("../data/data-gain.csv")
data.head()


data.drop(columns=list(data)[0], inplace=True)
data.head()


data_melt = pd.melt(data, id_vars="Label", value_vars=list(data)[:-3])

# fig, ax = Style().update()
ax = sns.boxplot(data=data_melt, x="variable", y="value", palette=list(warna.values()))
ticks_y = ticker.FuncFormatter(lambda x, pos: "{0:g}".format(x / 1000.0))
ax.yaxis.set_major_formatter(ticks_y)
ax.set_xlabel("Sensor")
ax.set_ylabel("Maximum voltage gain (V)")


Style().update()


fig, ax = plt.subplots(figsize=[10.72, 8.205])
ax = sns.boxplot(data=data_melt, x="variable", y="value", palette=list(warna.values()))
ticks_y = ticker.FuncFormatter(lambda x, pos: "{0:g}".format(x / 1000.0))
ax.yaxis.set_major_formatter(ticks_y)
ax.set_xlabel("Sensor")
ax.set_ylabel("Maximum voltage gain (V)")
fig.patch.set_facecolor("xkcd:white")


# save ke SVG
fig.savefig("../reports/figures/02_boxplot.svg")


fig, ax = plt.subplots(figsize=[10.72, 8.205])
ax = sns.boxplot(
    data=data_melt,
    x="variable",
    y="value",
    hue="Label",
    # hue_order="label",
    showfliers=False,
    palette=["#187498", "#EB5353"],
)

ax.set_xlabel("Sensor")
ax.set_ylabel("Maximum voltage gain (V)")
L = ax.legend(loc=1)
ax.legend_.set_title(None)
L.get_texts()[0].set_text("NEGATIVE")
L.get_texts()[1].set_text("POSITIVE")
# plt.xticks(rotation=90)
ticks_y = ticker.FuncFormatter(lambda x, pos: "{0:g}".format(x / 1000.0))
ax.yaxis.set_major_formatter(ticks_y)
fig.patch.set_facecolor("xkcd:white")

# save ke SVG
fig.savefig("../reports/figures/02_boxplot-PN.svg")



