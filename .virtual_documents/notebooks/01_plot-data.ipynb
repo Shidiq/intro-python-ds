import matplotlib
import matplotlib.pyplot as plt  # inisialisasi library pyplot dengan nama alias plt
import numpy as np
import pandas as pd  # initialisasi library pandas dengan nama alias pd
from scipy.optimize import curve_fit

get_ipython().run_line_magic("config", " InlineBackend.figure_formats = ['svg']")
get_ipython().run_line_magic("matplotlib", " inline")


data = pd.read_csv("../data/data-time-series.csv")
data.head()


x = data["range"].values
y = data["score"].values


def objective(x, a, b, c, d, e, f):
    return (a * x) + (b * x**2) + (c * x**3) + (d * x**4) + (e * x**5) + f


popt, _ = curve_fit(objective, x, y)
a, b, c, d, e, f = popt

x_line = np.arange(20, 460, 1)
y_line = objective(x_line, a, b, c, d, e, f)


plt.scatter(x, y)


plt.plot(x_line, y_line)


fig, ax = plt.subplots(figsize=[10.72, 8.205])


fig, ax = plt.subplots(figsize=[10.72, 8.205])
ax.scatter(x, y, label="Average score")
ax.plot(x_line, y_line, label="Curve fitting")
ax.set_xlabel("Range")
ax.set_ylabel("Score")
plt.legend(loc=4)


plt.style.use("classic")
params = {
    "axes.formatter.useoffset": False,
    "font.family": "sans-serif",
    "font.sans-serif": "Arial",
    "xtick.labelsize": 28,
    "ytick.labelsize": 28,
    "axes.labelsize": 28,
    "axes.labelweight": "bold",
    "axes.titlesize": 28,
    "axes.titleweight": "bold",
    "figure.dpi": 300,
    # "figure.figsize": figsize,
    # "legend.loc": loc,
    "legend.fontsize": 24,
    "legend.fancybox": True,
    "mathtext.fontset": "custom",
    "mathtext.default": "regular",
    "figure.autolayout": False,
    "patch.edgecolor": "#000000",
    "text.color": "#000000",
    "axes.edgecolor": "#000000",
    "axes.labelcolor": "#000000",
    "xtick.color": "#000000",
    "ytick.color": "#000000",
}
matplotlib.rcParams.update(params)


fig, ax = plt.subplots(figsize=[10.72, 8.205])
ax.scatter(x, y, label="Average score")
ax.plot(x_line, y_line, label="Curve fitting")
ax.set_xlabel("Range")
ax.set_ylabel("Score")
plt.legend(loc=4)


fig, ax = plt.subplots(figsize=[10.72, 8.205])
ax.plot(x, y, ".", label="Average score", markersize=20)
ax.plot(x_line, y_line, label="Curve fitting", color="red", linewidth=4)
ax.set_xlabel("Range")
ax.set_ylabel("Score")
ax.set_xlim([0, 400])
plt.legend(loc=4)
fig.patch.set_facecolor("xkcd:white")


# save ke PNG (dpi=600)
fig.savefig("../reports/figures/01_fitting-data.png", dpi=600)

# save ke PDF
fig.savefig("../reports/figures/01_fitting-data.pdf")

# save ke SVG
fig.savefig("../reports/figures/01_fitting-data.svg")



