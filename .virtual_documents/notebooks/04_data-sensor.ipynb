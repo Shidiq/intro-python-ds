import os
from fnmatch import fnmatch
import re


def scanroot(root, pattern="*.csv"):
    res = []
    for path, subdirs, files in os.walk(root):
        for name in files:
            if fnmatch(name, pattern):
                r = os.path.join(path, name)
                res.append(r)
    return res


# folder path
dir_path = "../data/rawdata/"

# list to store files name
list_files = scanroot(dir_path)
list_files


item = list_files[0]
item


dir_path


file_names



