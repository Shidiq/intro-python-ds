def luas(panjang: float, lebar: float) -> float:
    out = panjang * lebar
    return out


luas(3, 5)


def keliling(panjang: float, lebar: float) -> float:
    out = 2 * (panjang + lebar)
    return out


keliling(3, 5)


class PersegiPanjag:
    def __init__(self, panjang: float, lebar: float, verbose=True) -> None:
        self.panjang = panjang
        self.lebar = lebar
        self.verbose = verbose

    def luas(self):
        out = self.panjang * self.lebar
        if self.verbose:
            return out
        else:
            print("Luas dar persegi adalah %.2d" % out)

    def keliling(self):
        out = 2 * (self.panjang + self.lebar)
        if self.verbose:
            return out
        else:
            print("Keliling dari persegi adalah %.2d" % out)


my_persegi = PersegiPanjag(8, 3, False)


my_persegi.luas()


my_persegi.keliling()


my_persegi.panjang


my_persegi.lebar


my_persegi.panjang = 10


my_persegi.luas()



