{
 "cells": [
  {
   "cell_type": "markdown",
   "id": "5802a85c-df74-4fb2-a297-30a415395a88",
   "metadata": {},
   "source": [
    "# Contoh deklarasi fungsi\n",
    "\n",
    "- fungsi luas\n",
    "- variable dummy:\n",
    "  - panjang → float\n",
    "  - lebar → float\n",
    "- operator, mutliply (`*`)"
   ]
  },
  {
   "cell_type": "code",
   "execution_count": 3,
   "id": "a96ba724-2957-417c-b086-09cf25a4e896",
   "metadata": {
    "execution": {
     "iopub.execute_input": "2022-11-25T16:36:21.139515Z",
     "iopub.status.busy": "2022-11-25T16:36:21.139070Z",
     "iopub.status.idle": "2022-11-25T16:36:21.146060Z",
     "shell.execute_reply": "2022-11-25T16:36:21.144265Z",
     "shell.execute_reply.started": "2022-11-25T16:36:21.139487Z"
    },
    "tags": []
   },
   "outputs": [],
   "source": [
    "def luas(panjang: float, lebar: float) -> float:\n",
    "    out = panjang * lebar\n",
    "    return out"
   ]
  },
  {
   "cell_type": "code",
   "execution_count": 4,
   "id": "df88fd95-5717-4ee0-9202-bf7a690b867a",
   "metadata": {
    "execution": {
     "iopub.execute_input": "2022-11-25T16:36:21.650366Z",
     "iopub.status.busy": "2022-11-25T16:36:21.649581Z",
     "iopub.status.idle": "2022-11-25T16:36:21.658919Z",
     "shell.execute_reply": "2022-11-25T16:36:21.657733Z",
     "shell.execute_reply.started": "2022-11-25T16:36:21.650310Z"
    },
    "tags": []
   },
   "outputs": [
    {
     "data": {
      "text/plain": [
       "15"
      ]
     },
     "execution_count": 4,
     "metadata": {},
     "output_type": "execute_result"
    }
   ],
   "source": [
    "luas(3, 5)"
   ]
  },
  {
   "cell_type": "code",
   "execution_count": 5,
   "id": "dec32cc1-2795-4bb2-91d5-6d14083ce440",
   "metadata": {
    "execution": {
     "iopub.execute_input": "2022-11-25T16:36:51.002979Z",
     "iopub.status.busy": "2022-11-25T16:36:51.002735Z",
     "iopub.status.idle": "2022-11-25T16:36:51.013919Z",
     "shell.execute_reply": "2022-11-25T16:36:51.009754Z",
     "shell.execute_reply.started": "2022-11-25T16:36:51.002965Z"
    }
   },
   "outputs": [],
   "source": [
    "def keliling(panjang: float, lebar: float) -> float:\n",
    "    out = 2 * (panjang + lebar)\n",
    "    return out"
   ]
  },
  {
   "cell_type": "code",
   "execution_count": 6,
   "id": "621987e7-abc6-4d72-b048-08d32bafa412",
   "metadata": {
    "execution": {
     "iopub.execute_input": "2022-11-25T16:36:56.012195Z",
     "iopub.status.busy": "2022-11-25T16:36:56.011430Z",
     "iopub.status.idle": "2022-11-25T16:36:56.020243Z",
     "shell.execute_reply": "2022-11-25T16:36:56.019393Z",
     "shell.execute_reply.started": "2022-11-25T16:36:56.012134Z"
    }
   },
   "outputs": [
    {
     "data": {
      "text/plain": [
       "16"
      ]
     },
     "execution_count": 6,
     "metadata": {},
     "output_type": "execute_result"
    }
   ],
   "source": [
    "keliling(3, 5)"
   ]
  },
  {
   "cell_type": "markdown",
   "id": "6d7f9552-8d2b-40fa-883f-b8fefd200eef",
   "metadata": {},
   "source": [
    "# Deklarasi Class"
   ]
  },
  {
   "cell_type": "code",
   "execution_count": 11,
   "id": "37416096-8a88-48db-bac6-166fbd310dc5",
   "metadata": {
    "execution": {
     "iopub.execute_input": "2022-11-25T16:42:34.776000Z",
     "iopub.status.busy": "2022-11-25T16:42:34.772127Z",
     "iopub.status.idle": "2022-11-25T16:42:34.793590Z",
     "shell.execute_reply": "2022-11-25T16:42:34.792425Z",
     "shell.execute_reply.started": "2022-11-25T16:42:34.775931Z"
    },
    "tags": []
   },
   "outputs": [],
   "source": [
    "class PersegiPanjag:\n",
    "    def __init__(self, panjang: float, lebar: float, verbose=True) -> None:\n",
    "        self.panjang = panjang\n",
    "        self.lebar = lebar\n",
    "        self.verbose = verbose\n",
    "\n",
    "    def luas(self):\n",
    "        out = self.panjang * self.lebar\n",
    "        if self.verbose:\n",
    "            return out\n",
    "        else:\n",
    "            print(\"Luas dar persegi adalah %.2d\" % out)\n",
    "\n",
    "    def keliling(self):\n",
    "        out = 2 * (self.panjang + self.lebar)\n",
    "        if self.verbose:\n",
    "            return out\n",
    "        else:\n",
    "            print(\"Keliling dari persegi adalah %.2d\" % out)"
   ]
  },
  {
   "cell_type": "code",
   "execution_count": 12,
   "id": "e08e4a4b-2a1c-494d-a706-47b8bf8f2641",
   "metadata": {
    "execution": {
     "iopub.execute_input": "2022-11-25T16:42:35.145988Z",
     "iopub.status.busy": "2022-11-25T16:42:35.145287Z",
     "iopub.status.idle": "2022-11-25T16:42:35.152199Z",
     "shell.execute_reply": "2022-11-25T16:42:35.150929Z",
     "shell.execute_reply.started": "2022-11-25T16:42:35.145939Z"
    },
    "tags": []
   },
   "outputs": [],
   "source": [
    "my_persegi = PersegiPanjag(8, 3, False)"
   ]
  },
  {
   "cell_type": "code",
   "execution_count": 13,
   "id": "22dc548a-9113-44b9-b88b-72d7eb6d7ec5",
   "metadata": {
    "execution": {
     "iopub.execute_input": "2022-11-25T16:42:35.419305Z",
     "iopub.status.busy": "2022-11-25T16:42:35.418583Z",
     "iopub.status.idle": "2022-11-25T16:42:35.426910Z",
     "shell.execute_reply": "2022-11-25T16:42:35.425810Z",
     "shell.execute_reply.started": "2022-11-25T16:42:35.419256Z"
    },
    "tags": []
   },
   "outputs": [
    {
     "name": "stdout",
     "output_type": "stream",
     "text": [
      "Luas dar persegi adalah 24\n"
     ]
    }
   ],
   "source": [
    "my_persegi.luas()"
   ]
  },
  {
   "cell_type": "code",
   "execution_count": 14,
   "id": "357d7379-a439-4b5a-a809-cc596d7193a7",
   "metadata": {
    "execution": {
     "iopub.execute_input": "2022-11-25T16:42:35.925326Z",
     "iopub.status.busy": "2022-11-25T16:42:35.924428Z",
     "iopub.status.idle": "2022-11-25T16:42:35.930968Z",
     "shell.execute_reply": "2022-11-25T16:42:35.929817Z",
     "shell.execute_reply.started": "2022-11-25T16:42:35.925285Z"
    },
    "tags": []
   },
   "outputs": [
    {
     "name": "stdout",
     "output_type": "stream",
     "text": [
      "Keliling dari persegi adalah 22\n"
     ]
    }
   ],
   "source": [
    "my_persegi.keliling()"
   ]
  },
  {
   "cell_type": "code",
   "execution_count": 15,
   "id": "383cce2e-4982-45d6-a8fb-07ffb0ba5cba",
   "metadata": {
    "execution": {
     "iopub.execute_input": "2022-11-25T16:42:52.999723Z",
     "iopub.status.busy": "2022-11-25T16:42:52.999029Z",
     "iopub.status.idle": "2022-11-25T16:42:53.008626Z",
     "shell.execute_reply": "2022-11-25T16:42:53.007464Z",
     "shell.execute_reply.started": "2022-11-25T16:42:52.999695Z"
    }
   },
   "outputs": [
    {
     "data": {
      "text/plain": [
       "8"
      ]
     },
     "execution_count": 15,
     "metadata": {},
     "output_type": "execute_result"
    }
   ],
   "source": [
    "my_persegi.panjang"
   ]
  },
  {
   "cell_type": "code",
   "execution_count": 16,
   "id": "2baeae72-ad9e-4a9a-b02a-91bd878505df",
   "metadata": {
    "execution": {
     "iopub.execute_input": "2022-11-25T16:42:59.743743Z",
     "iopub.status.busy": "2022-11-25T16:42:59.743301Z",
     "iopub.status.idle": "2022-11-25T16:42:59.751051Z",
     "shell.execute_reply": "2022-11-25T16:42:59.750026Z",
     "shell.execute_reply.started": "2022-11-25T16:42:59.743717Z"
    }
   },
   "outputs": [
    {
     "data": {
      "text/plain": [
       "3"
      ]
     },
     "execution_count": 16,
     "metadata": {},
     "output_type": "execute_result"
    }
   ],
   "source": [
    "my_persegi.lebar"
   ]
  },
  {
   "cell_type": "code",
   "execution_count": 17,
   "id": "6c0d0b64-6eab-40c7-a401-1ce01a22e6ba",
   "metadata": {
    "execution": {
     "iopub.execute_input": "2022-11-25T16:43:11.694526Z",
     "iopub.status.busy": "2022-11-25T16:43:11.694097Z",
     "iopub.status.idle": "2022-11-25T16:43:11.699206Z",
     "shell.execute_reply": "2022-11-25T16:43:11.698288Z",
     "shell.execute_reply.started": "2022-11-25T16:43:11.694497Z"
    }
   },
   "outputs": [],
   "source": [
    "my_persegi.panjang = 10"
   ]
  },
  {
   "cell_type": "code",
   "execution_count": 18,
   "id": "1a932782-6f74-402a-9907-6f6ab3ec79e4",
   "metadata": {
    "execution": {
     "iopub.execute_input": "2022-11-25T16:43:18.715930Z",
     "iopub.status.busy": "2022-11-25T16:43:18.715123Z",
     "iopub.status.idle": "2022-11-25T16:43:18.723621Z",
     "shell.execute_reply": "2022-11-25T16:43:18.722580Z",
     "shell.execute_reply.started": "2022-11-25T16:43:18.715880Z"
    }
   },
   "outputs": [
    {
     "name": "stdout",
     "output_type": "stream",
     "text": [
      "Luas dar persegi adalah 30\n"
     ]
    }
   ],
   "source": [
    "my_persegi.luas()"
   ]
  },
  {
   "cell_type": "code",
   "execution_count": null,
   "id": "6c82a642-7e82-4b9e-aabf-447587eaac1d",
   "metadata": {},
   "outputs": [],
   "source": []
  }
 ],
 "metadata": {
  "kernelspec": {
   "display_name": "Python 3 (ipykernel)",
   "language": "python",
   "name": "python3"
  },
  "language_info": {
   "codemirror_mode": {
    "name": "ipython",
    "version": 3
   },
   "file_extension": ".py",
   "mimetype": "text/x-python",
   "name": "python",
   "nbconvert_exporter": "python",
   "pygments_lexer": "ipython3",
   "version": "3.9.15"
  }
 },
 "nbformat": 4,
 "nbformat_minor": 5
}
